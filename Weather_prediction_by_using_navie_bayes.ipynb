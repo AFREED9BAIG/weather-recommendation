{
  "nbformat": 4,
  "nbformat_minor": 0,
  "metadata": {
    "colab": {
      "private_outputs": true,
      "provenance": [],
      "collapsed_sections": []
    },
    "kernelspec": {
      "name": "python3",
      "display_name": "Python 3"
    },
    "language_info": {
      "name": "python"
    }
  },
  "cells": [
    {
      "cell_type": "markdown",
      "source": [
        "**## Navie Bayes project (?Weather Prediction)**"
      ],
      "metadata": {
        "id": "CDJ38a3Za4d9"
      }
    },
    {
      "cell_type": "code",
      "source": [
        "#Import required modules\n",
        "import pandas as pd\n",
        "from sklearn.preprocessing import LabelEncoder\n",
        "from sklearn.naive_bayes import GaumssianNB"
      ],
      "metadata": {
        "id": "GZHPvuD1bAt0"
      },
      "execution_count": null,
      "outputs": []
    },
    {
      "cell_type": "code",
      "source": [
        "#Reading csv files\n",
        "df = pd.read_csv(\"/content/drive/MyDrive/Spam/nsp - Google Search.pdf\")"
      ],
      "metadata": {
        "id": "ham-x35sb1V6"
      },
      "execution_count": null,
      "outputs": []
    },
    {
      "cell_type": "code",
      "source": [
        "#Reading csv files\n",
        "df = pd.read_csv(\"/content/drive/MyDrive/Spam/nsp - Google Search.pdf\")\n",
        "  LabelEncoder: Numerics\n",
        "\n",
        "  sklearn.preprocessing._Label.LabelEncoder instance\n",
        "Numerics = LabelEncoder\n",
        "\n",
        "#Droping the target variables and make it as a new frame \n",
        "inputs df.drop('play', axis= 'columns')\n",
        "target=df['play']\n",
        "target"
      ],
      "metadata": {
        "id": "q2A2QU00eGbP"
      },
      "execution_count": null,
      "outputs": []
    },
    {
      "cell_type": "code",
      "source": [
        "#Reading the  csv files \n",
        "df = pd.read_csv(\"/content/drive/MyDrive/Spam/nsp - Google Search.pdf\")\n",
        "df\n",
        "\n",
        "#Encoding the string to numericals\n",
        "numerics =LabelEncoder()\n",
        "\n",
        "\n",
        "#Droping the target variable as a new variable\n",
        "inputs df.drop('play', axis='columns')\n",
        "target=df['play']\n",
        "target"
      ],
      "metadata": {
        "id": "U3GXsPfWhJpV"
      },
      "execution_count": null,
      "outputs": []
    },
    {
      "cell_type": "code",
      "source": [
        "#Creating the new dataframe\n",
        "inputs['outlook_n'] = outlookat.fit_transform(inputs['outlook'])\n",
        "inputs['Temp_n'] = outlookat.fit_transform(inputs['Temp'])\n",
        "inputs['Hum_n'] = outlookat.fit_transform(inputs['HUmidity'])\n",
        "inputs['Win_n'] = outlooksat.fit_transform(inputs['Windy'])\n"
      ],
      "metadata": {
        "id": "fgjlhmPZh5SX"
      },
      "execution_count": null,
      "outputs": []
    },
    {
      "cell_type": "code",
      "source": [
        "#Droping the string values\n",
        "inputs_n = inputs.drop(['outlook','Temp','Humidity','Windy'], axis='columns')\n",
        "inputs_n"
      ],
      "metadata": {
        "id": "LsSwR77OjC--"
      },
      "execution_count": null,
      "outputs": []
    },
    {
      "cell_type": "code",
      "source": [
        "#Applying the Gaussian navie bayes\n",
        "classifier = GaussianNB()\n",
        "classifier.fit(inputs_n,target)\n",
        "\n",
        "GaussianNB()"
      ],
      "metadata": {
        "id": "AKNstky_kKKp"
      },
      "execution_count": null,
      "outputs": []
    },
    {
      "cell_type": "code",
      "source": [
        "#Prediction\n",
        "classifier.predict([[0,0,0,1]])"
      ],
      "metadata": {
        "id": "m7rBxCM2kvKc"
      },
      "execution_count": null,
      "outputs": []
    }
  ]
}